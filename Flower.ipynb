{
 "cells": [
  {
   "cell_type": "code",
   "execution_count": 14,
   "metadata": {},
   "outputs": [],
   "source": [
    "import cv2\n",
    "import numpy as np\n",
    "import matplotlib.pyplot as plt"
   ]
  },
  {
   "cell_type": "code",
   "execution_count": 17,
   "metadata": {},
   "outputs": [
    {
     "data": {
      "image/png": "[encoded data removed]",
      "text/plain": [
       "<Figure size 432x288 with 1 Axes>"
      ]
     },
     "metadata": {
      "needs_background": "light"
     },
     "output_type": "display_data"
    }
   ],
   "source": [
    "img = cv2.imread(\"flower.jpg\")\n",
    "_ , threshold_image = cv2.threshold(img, 127, 255, cv2.THRESH_BINARY)\n",
    "plt.imshow(threshold_image, cmap='gray')\n",
    "plt.show()"
   ]
  },
  {
   "cell_type": "code",
   "execution_count": 24,
   "metadata": {},
   "outputs": [],
   "source": [
    "def findContours(img, mode='RETR_LIST'):\n",
    "\n",
    "    _ , threshold_img = cv2.threshold(img, 127, 255, cv2.THRESH_BINARY)\n",
    "    \n",
    "    rows, cols = img.shape\n",
    "    \n",
    "    if mode=='RETR_LIST':\n",
    "      \n",
    "        h_landmarks = []\n",
    "        for i in range(rows):\n",
    "            object_in_row = False\n",
    "            for j in range(cols):\n",
    "                if threshold_img[i, j]==255 and object_in_row==False:\n",
    "                    object_in_row = True\n",
    "                    h_landmarks.append([i, j]) \n",
    "                elif threshold_img[i, j]==0 and object_in_row==True:\n",
    "                    object_in_row = False\n",
    "                    h_landmarks.append([i, j])\n",
    "                    \n",
    "       \n",
    "        v_landmarks = []\n",
    "        for i in range(cols):\n",
    "            object_in_col = False\n",
    "            for j in range(rows):\n",
    "                if threshold_img[j, i]==255 and object_in_col==False:\n",
    "                    object_in_col = True\n",
    "                    v_landmarks.append([j, i])\n",
    "                elif threshold_img[j, i]==0 and object_in_col==True:\n",
    "                    object_in_col = False\n",
    "                    v_landmarks.append([j, i])\n",
    "\n",
    "    elif mode=='RETR_EXTERNAL':\n",
    "   \n",
    "        h_landmarks = []\n",
    "        for i in range(rows):\n",
    "            object_in_row = False\n",
    "            exist = False\n",
    "            tmp = []\n",
    "            for j in range(cols):\n",
    "                if threshold_img[i, j]==255 and object_in_row==False:\n",
    "                    object_in_row = True\n",
    "                    exist = True\n",
    "                    tmp.append([i, j]) \n",
    "                elif threshold_img[i, j]==0 and object_in_row==True:\n",
    "                    object_in_row = False\n",
    "                    tmp.append([i, j])\n",
    "            if exist:\n",
    "                h_landmarks.extend([tmp[0], tmp[-1]])\n",
    "       \n",
    "        v_landmarks = []\n",
    "        for i in range(cols):\n",
    "            object_in_col = False\n",
    "            exist = False\n",
    "            tmp = []\n",
    "            for j in range(rows):\n",
    "                if threshold_img[j, i]==255 and object_in_col==False:\n",
    "                    object_in_col = True\n",
    "                    exist = True\n",
    "                    tmp.append([j, i]) \n",
    "                elif threshold_img[j, i]==0 and object_in_col==True:\n",
    "                    object_in_col = False\n",
    "                    tmp.append([j, i])\n",
    "            if exist:\n",
    "                v_landmarks.extend([tmp[0], tmp[-1]])\n",
    "            \n",
    "    \n",
    "    return h_landmarks, v_landmarks"
   ]
  },
  {
   "cell_type": "code",
   "execution_count": 26,
   "metadata": {},
   "outputs": [
    {
     "ename": "ValueError",
     "evalue": "too many values to unpack (expected 2)",
     "output_type": "error",
     "traceback": [
      "\u001b[1;31m---------------------------------------------------------------------------\u001b[0m",
      "\u001b[1;31mValueError\u001b[0m                                Traceback (most recent call last)",
      "\u001b[1;32md:\\saeideh\\Python Exercises\\practice27\\labtop.ipynb Cell 4\u001b[0m in \u001b[0;36m<cell line: 1>\u001b[1;34m()\u001b[0m\n\u001b[1;32m----> <a href='vscode-notebook-cell:/d%3A/saeideh/Python%20Exercises/practice27/labtop.ipynb#ch0000004?line=0'>1</a>\u001b[0m h_lands, v_lands \u001b[39m=\u001b[39m findContours(img, \u001b[39m'\u001b[39;49m\u001b[39mRETR_EXTERNAL\u001b[39;49m\u001b[39m'\u001b[39;49m)\n",
      "\u001b[1;32md:\\saeideh\\Python Exercises\\practice27\\labtop.ipynb Cell 4\u001b[0m in \u001b[0;36mfindContours\u001b[1;34m(img, mode)\u001b[0m\n\u001b[0;32m      <a href='vscode-notebook-cell:/d%3A/saeideh/Python%20Exercises/practice27/labtop.ipynb#ch0000004?line=0'>1</a>\u001b[0m \u001b[39mdef\u001b[39;00m \u001b[39mfindContours\u001b[39m(img, mode\u001b[39m=\u001b[39m\u001b[39m'\u001b[39m\u001b[39mRETR_LIST\u001b[39m\u001b[39m'\u001b[39m):\n\u001b[0;32m      <a href='vscode-notebook-cell:/d%3A/saeideh/Python%20Exercises/practice27/labtop.ipynb#ch0000004?line=2'>3</a>\u001b[0m     _ , threshold_img \u001b[39m=\u001b[39m cv2\u001b[39m.\u001b[39mthreshold(img, \u001b[39m127\u001b[39m, \u001b[39m255\u001b[39m, cv2\u001b[39m.\u001b[39mTHRESH_BINARY)\n\u001b[1;32m----> <a href='vscode-notebook-cell:/d%3A/saeideh/Python%20Exercises/practice27/labtop.ipynb#ch0000004?line=4'>5</a>\u001b[0m     rows, cols \u001b[39m=\u001b[39m img\u001b[39m.\u001b[39mshape\n\u001b[0;32m      <a href='vscode-notebook-cell:/d%3A/saeideh/Python%20Exercises/practice27/labtop.ipynb#ch0000004?line=6'>7</a>\u001b[0m     \u001b[39mif\u001b[39;00m mode\u001b[39m==\u001b[39m\u001b[39m'\u001b[39m\u001b[39mRETR_LIST\u001b[39m\u001b[39m'\u001b[39m:\n\u001b[0;32m      <a href='vscode-notebook-cell:/d%3A/saeideh/Python%20Exercises/practice27/labtop.ipynb#ch0000004?line=8'>9</a>\u001b[0m         h_landmarks \u001b[39m=\u001b[39m []\n",
      "\u001b[1;31mValueError\u001b[0m: too many values to unpack (expected 2)"
     ]
    }
   ],
   "source": [
    "h_lands, v_lands = findContours(img, 'RETR_EXTERNAL')"
   ]
  },
  {
   "cell_type": "code",
   "execution_count": 27,
   "metadata": {},
   "outputs": [],
   "source": [
    "bgr_img = cv2.cvtColor(threshold_img, cv2.COLOR_GRAY2BGR)\n",
    "res_img = bgr_img.copy()"
   ]
  },
  {
   "cell_type": "code",
   "execution_count": 29,
   "metadata": {},
   "outputs": [
    {
     "data": {
      "image/png": "[encoded data removed]",
      "text/plain": [
       "<Figure size 432x288 with 1 Axes>"
      ]
     },
     "metadata": {
      "needs_background": "light"
     },
     "output_type": "display_data"
    }
   ],
   "source": [
    "\n",
    "for vl in v_lands:\n",
    "    cv2.circle(res_img, (vl[1], vl[0]), 1, (0,127,0), -1)\n",
    "for hl in h_lands:\n",
    "    cv2.circle(res_img, (hl[1], hl[0]), 1, (0,127,0), -1)\n",
    "plt.imshow(res_img)\n",
    "plt.show()"
   ]
  },
  {
   "cell_type": "code",
   "execution_count": 30,
   "metadata": {},
   "outputs": [
    {
     "ename": "ValueError",
     "evalue": "too many values to unpack (expected 2)",
     "output_type": "error",
     "traceback": [
      "\u001b[1;31m---------------------------------------------------------------------------\u001b[0m",
      "\u001b[1;31mValueError\u001b[0m                                Traceback (most recent call last)",
      "\u001b[1;32md:\\saeideh\\Python Exercises\\practice27\\labtop.ipynb Cell 7\u001b[0m in \u001b[0;36m<cell line: 1>\u001b[1;34m()\u001b[0m\n\u001b[1;32m----> <a href='vscode-notebook-cell:/d%3A/saeideh/Python%20Exercises/practice27/labtop.ipynb#ch0000007?line=0'>1</a>\u001b[0m h_lands, v_lands \u001b[39m=\u001b[39m findContours(img, \u001b[39m'\u001b[39;49m\u001b[39mRETR_LIST\u001b[39;49m\u001b[39m'\u001b[39;49m)\n\u001b[0;32m      <a href='vscode-notebook-cell:/d%3A/saeideh/Python%20Exercises/practice27/labtop.ipynb#ch0000007?line=2'>3</a>\u001b[0m bgr_img \u001b[39m=\u001b[39m cv2\u001b[39m.\u001b[39mcvtColor(threshold_img, cv2\u001b[39m.\u001b[39mCOLOR_GRAY2BGR)\n\u001b[0;32m      <a href='vscode-notebook-cell:/d%3A/saeideh/Python%20Exercises/practice27/labtop.ipynb#ch0000007?line=3'>4</a>\u001b[0m res_img \u001b[39m=\u001b[39m bgr_img\u001b[39m.\u001b[39mcopy()\n",
      "\u001b[1;32md:\\saeideh\\Python Exercises\\practice27\\labtop.ipynb Cell 7\u001b[0m in \u001b[0;36mfindContours\u001b[1;34m(img, mode)\u001b[0m\n\u001b[0;32m      <a href='vscode-notebook-cell:/d%3A/saeideh/Python%20Exercises/practice27/labtop.ipynb#ch0000007?line=0'>1</a>\u001b[0m \u001b[39mdef\u001b[39;00m \u001b[39mfindContours\u001b[39m(img, mode\u001b[39m=\u001b[39m\u001b[39m'\u001b[39m\u001b[39mRETR_LIST\u001b[39m\u001b[39m'\u001b[39m):\n\u001b[0;32m      <a href='vscode-notebook-cell:/d%3A/saeideh/Python%20Exercises/practice27/labtop.ipynb#ch0000007?line=2'>3</a>\u001b[0m     _ , threshold_img \u001b[39m=\u001b[39m cv2\u001b[39m.\u001b[39mthreshold(img, \u001b[39m127\u001b[39m, \u001b[39m255\u001b[39m, cv2\u001b[39m.\u001b[39mTHRESH_BINARY)\n\u001b[1;32m----> <a href='vscode-notebook-cell:/d%3A/saeideh/Python%20Exercises/practice27/labtop.ipynb#ch0000007?line=4'>5</a>\u001b[0m     rows, cols \u001b[39m=\u001b[39m img\u001b[39m.\u001b[39mshape\n\u001b[0;32m      <a href='vscode-notebook-cell:/d%3A/saeideh/Python%20Exercises/practice27/labtop.ipynb#ch0000007?line=6'>7</a>\u001b[0m     \u001b[39mif\u001b[39;00m mode\u001b[39m==\u001b[39m\u001b[39m'\u001b[39m\u001b[39mRETR_LIST\u001b[39m\u001b[39m'\u001b[39m:\n\u001b[0;32m      <a href='vscode-notebook-cell:/d%3A/saeideh/Python%20Exercises/practice27/labtop.ipynb#ch0000007?line=8'>9</a>\u001b[0m         h_landmarks \u001b[39m=\u001b[39m []\n",
      "\u001b[1;31mValueError\u001b[0m: too many values to unpack (expected 2)"
     ]
    }
   ],
   "source": [
    "\n",
    "h_lands, v_lands = findContours(img, 'RETR_LIST')\n",
    "\n",
    "bgr_img = cv2.cvtColor(threshold_img, cv2.COLOR_GRAY2BGR)\n",
    "res_img = bgr_img.copy()\n",
    "\n",
    "for vl in v_lands:\n",
    "    cv2.circle(res_img, (vl[1], vl[0]), 1, (0,127,0), -1)\n",
    "for hl in h_lands:\n",
    "    cv2.circle(res_img, (hl[1], hl[0]), 1, (0,127,0), -1)\n",
    "\n",
    "plt.imshow(res_img)\n",
    "plt.show()"
   ]
  }
 ],
 "metadata": {
  "kernelspec": {
   "display_name": "Python 3.9.12 64-bit",
   "language": "python",
   "name": "python3"
  },
  "language_info": {
   "codemirror_mode": {
    "name": "ipython",
    "version": 3
   },
   "file_extension": ".py",
   "mimetype": "text/x-python",
   "name": "python",
   "nbconvert_exporter": "python",
   "pygments_lexer": "ipython3",
   "version": "3.9.12"
  },
  "orig_nbformat": 4,
  "vscode": {
   "interpreter": {
    "hash": "6eba95d76a3076830484dacb41abe097e14c0912d41570c9b710c1f02d7a1e44"
   }
  }
 },
 "nbformat": 4,
 "nbformat_minor": 2
}
